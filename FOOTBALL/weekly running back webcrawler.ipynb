{
 "cells": [
  {
   "cell_type": "code",
   "execution_count": 1,
   "metadata": {
    "collapsed": false,
    "scrolled": true
   },
   "outputs": [],
   "source": [
    "from bs4 import BeautifulSoup\n",
    "import urllib.request\n",
    "import pandas as pd\n",
    "import numpy as np\n",
    "import time"
   ]
  },
  {
   "cell_type": "code",
   "execution_count": 2,
   "metadata": {
    "collapsed": false
   },
   "outputs": [],
   "source": [
    "def fill_table(week):\n",
    "    table = pd.DataFrame()\n",
    "    table['Player'] = []\n",
    "    table['Team'] = []\n",
    "    table['Opp'] = []\n",
    "    table['Score'] = []\n",
    "    table['Attempts'] = []\n",
    "    table['Rushing YDS'] = []\n",
    "    table['Rush TD'] = []\n",
    "    table['Receptions'] = []\n",
    "    table['Rec YDS'] = []\n",
    "    table['Rec TD'] = []\n",
    "    table['Targets'] = []\n",
    "    table['2PC'] = []\n",
    "    table['Fuml'] = []\n",
    "\n",
    "    for page in range(3):\n",
    "        if page == 0: \n",
    "            url = 'http://games.espn.com/ffl/leaders?slotCategoryId=2&scoringPeriodId='+str(week)+'&seasonId=2017'\n",
    "        else:\n",
    "            url = 'http://games.espn.com/ffl/leaders?slotCategoryId=2&scoringPeriodId='+str(week)+'&seasonId=2017&startIndex=' + str(50 * page)\n",
    "        sauce = urllib.request.urlopen(url)\n",
    "        soup = BeautifulSoup(sauce, 'lxml')\n",
    "\n",
    "        players = soup.findAll('tr', {'class' : 'pncPlayerRow playerTableBgRow0'})\n",
    "        players2 = soup.findAll('tr', {'class' : 'pncPlayerRow playerTableBgRow1'})\n",
    "        for i in range(len(players)):\n",
    "            addition = []\n",
    "            addition2 = []\n",
    "            addition.append(players[i].a.string) #name\n",
    "            addition.append(players[i].td.contents[1].split()[1]) #team\n",
    "            addition.append(players[i].div.findAll('a', {'class':'flexpop'})[0].string) #opp\n",
    "            addition.append(players[i].findAll('td', {'class':'gameStatusDiv'})[0].string) #score\n",
    "            addition.append(players[i].findAll('td', {'class':'playertableStat'})[4].string) #attempts\n",
    "            addition.append(players[i].findAll('td', {'class':'playertableStat'})[5].string) #YDS\n",
    "            addition.append(players[i].findAll('td', {'class':'playertableStat'})[6].string) #TD\n",
    "            addition.append(players[i].findAll('td', {'class':'playertableStat'})[7].string) #receptions\n",
    "            addition.append(players[i].findAll('td', {'class':'playertableStat'})[8].string) #YDS\n",
    "            addition.append(players[i].findAll('td', {'class':'playertableStat'})[9].string) #TD \n",
    "            addition.append(players[i].findAll('td', {'class':'playertableStat'})[10].string) #Targets\n",
    "            addition.append(players[i].findAll('td', {'class':'playertableStat'})[11].string) #2pc\n",
    "            addition.append(players[i].findAll('td', {'class':'playertableStat'})[12].string) #fum\n",
    "            addition2.append(players2[i].a.string) #name\n",
    "            addition2.append(players2[i].td.contents[1].split()[1]) #team\n",
    "            addition2.append(players2[i].div.findAll('a', {'class':'flexpop'})[0].string) #opp\n",
    "            addition2.append(players2[i].findAll('td', {'class':'gameStatusDiv'})[0].string) #score\n",
    "            addition2.append(players2[i].findAll('td', {'class':'playertableStat'})[4].string) #attempts\n",
    "            addition2.append(players2[i].findAll('td', {'class':'playertableStat'})[5].string) #YDS\n",
    "            addition2.append(players2[i].findAll('td', {'class':'playertableStat'})[6].string) #TD\n",
    "            addition2.append(players2[i].findAll('td', {'class':'playertableStat'})[7].string) #receptions\n",
    "            addition2.append(players2[i].findAll('td', {'class':'playertableStat'})[8].string) #YDS\n",
    "            addition2.append(players2[i].findAll('td', {'class':'playertableStat'})[9].string) #TD \n",
    "            addition2.append(players2[i].findAll('td', {'class':'playertableStat'})[10].string) #Targets\n",
    "            addition2.append(players2[i].findAll('td', {'class':'playertableStat'})[11].string) #2pc\n",
    "            addition2.append(players2[i].findAll('td', {'class':'playertableStat'})[12].string) #fum\n",
    "            table.loc[len(table)] = addition\n",
    "            table.loc[len(table)] = addition2\n",
    "    return table\n"
   ]
  },
  {
   "cell_type": "code",
   "execution_count": 129,
   "metadata": {
    "collapsed": false
   },
   "outputs": [],
   "source": [
    "RB_week1 = fill_table(1)\n",
    "RB_week2 = fill_table(2)\n",
    "RB_week3 = fill_table(3)\n",
    "RB_week4 = fill_table(4)\n",
    "RB_week5 = fill_table(5)\n",
    "RB_week6 = fill_table(6)\n",
    "RB_week7 = fill_table(7)"
   ]
  },
  {
   "cell_type": "code",
   "execution_count": 132,
   "metadata": {
    "collapsed": true
   },
   "outputs": [],
   "source": [
    "RB_week1.to_csv('RB_Week1')\n",
    "RB_week2.to_csv('RB_Week2')\n",
    "RB_week3.to_csv('RB_Week3')\n",
    "RB_week4.to_csv('RB_Week4')\n",
    "RB_week5.to_csv('RB_Week5')\n",
    "RB_week6.to_csv('RB_Week6')\n",
    "RB_week7.to_csv('RB_Week7')"
   ]
  },
  {
   "cell_type": "code",
   "execution_count": 3,
   "metadata": {
    "collapsed": false
   },
   "outputs": [],
   "source": [
    "def current_table(week):\n",
    "    table = pd.DataFrame()\n",
    "    table['Player'] = []\n",
    "    table['Team'] = []\n",
    "    table['Opp'] = []\n",
    "    table['Score'] = []\n",
    "    table['Attempts'] = []\n",
    "    table['Rushing YDS'] = []\n",
    "    table['Rush TD'] = []\n",
    "    table['Receptions'] = []\n",
    "    table['Rec YDS'] = []\n",
    "    table['Rec TD'] = []\n",
    "    table['Targets'] = []\n",
    "    table['2PC'] = []\n",
    "    table['Fuml'] = []\n",
    "\n",
    "    for page in range(6):\n",
    "        if page == 0: \n",
    "            url = 'http://games.espn.com/ffl/leaders?slotCategoryId=2&scoringPeriodId='+str(week)+'&seasonId=2017'\n",
    "        else:\n",
    "            url = 'http://games.espn.com/ffl/leaders?slotCategoryId=2&scoringPeriodId='+str(week)+'&seasonId=2017&startIndex=' + str(50 * page)\n",
    "        \n",
    "        sauce = urllib.request.urlopen(url)\n",
    "        soup = BeautifulSoup(sauce, 'lxml')\n",
    "        players = soup.findAll('tr', {'class' : 'pncPlayerRow playerTableBgRow0'})\n",
    "        players2 = soup.findAll('tr', {'class' : 'pncPlayerRow playerTableBgRow1'})\n",
    "        for i in range(len(players)):\n",
    "            try:\n",
    "                addition = []\n",
    "                addition2 = []\n",
    "                addition.append(players[i].a.string) #name\n",
    "                addition.append(players[i].td.contents[1].split()[1]) #team\n",
    "                try:\n",
    "                    addition.append(players[i].div.findAll('a', {'class':'flexpop'})[0].string) #opp\n",
    "                except:\n",
    "                    addition.append('bye')\n",
    "                addition2.append(players2[i].a.string) #name\n",
    "                addition2.append(players2[i].td.contents[1].split()[1]) #team\n",
    "                try:\n",
    "                    addition2.append(players2[i].div.findAll('a', {'class':'flexpop'})[0].string) #opp\n",
    "                except:\n",
    "                    addition2.append('bye')\n",
    "                for j in range(10):\n",
    "                    addition.append(0)\n",
    "                    addition2.append(0)\n",
    "                table.loc[len(table)] = addition\n",
    "                table.loc[len(table)] = addition2\n",
    "            except:\n",
    "                pass\n",
    "            \n",
    "    return table\n"
   ]
  },
  {
   "cell_type": "code",
   "execution_count": 4,
   "metadata": {
    "collapsed": false
   },
   "outputs": [],
   "source": [
    "RB_week8 = fill_table(8)\n",
    "RB_week9 = current_table(9)"
   ]
  },
  {
   "cell_type": "code",
   "execution_count": 8,
   "metadata": {
    "collapsed": true
   },
   "outputs": [],
   "source": [
    "RB_week8.to_csv('RB_Week8')\n",
    "RB_week9.to_csv('Current_Week')"
   ]
  },
  {
   "cell_type": "code",
   "execution_count": 5,
   "metadata": {
    "collapsed": false
   },
   "outputs": [],
   "source": [
    "RB_week9 = fill_table(9)\n",
    "RB_week10 = current_table(10)\n",
    "\n",
    "RB_week9.to_csv('RB_Week9')\n",
    "RB_week10.to_csv('Current_Week')"
   ]
  },
  {
   "cell_type": "code",
   "execution_count": null,
   "metadata": {
    "collapsed": true
   },
   "outputs": [],
   "source": [
    "RB_week0"
   ]
  },
  {
   "cell_type": "code",
   "execution_count": 9,
   "metadata": {
    "collapsed": false
   },
   "outputs": [
    {
     "ename": "TypeError",
     "evalue": "cannot concatenate a non-NDFrame object",
     "output_type": "error",
     "traceback": [
      "\u001b[1;31m---------------------------------------------------------------------------\u001b[0m",
      "\u001b[1;31mTypeError\u001b[0m                                 Traceback (most recent call last)",
      "\u001b[1;32m<ipython-input-9-fd5c3fd4f3de>\u001b[0m in \u001b[0;36m<module>\u001b[1;34m()\u001b[0m\n\u001b[0;32m      2\u001b[0m \u001b[0mp\u001b[0m \u001b[1;33m=\u001b[0m \u001b[0mpd\u001b[0m\u001b[1;33m.\u001b[0m\u001b[0mDataFrame\u001b[0m\u001b[1;33m(\u001b[0m\u001b[1;33m)\u001b[0m\u001b[1;33m\u001b[0m\u001b[0m\n\u001b[0;32m      3\u001b[0m \u001b[0mp\u001b[0m\u001b[1;33m[\u001b[0m\u001b[1;34m'Name'\u001b[0m\u001b[1;33m]\u001b[0m \u001b[1;33m=\u001b[0m \u001b[1;33m[\u001b[0m\u001b[1;33m]\u001b[0m\u001b[1;33m\u001b[0m\u001b[0m\n\u001b[1;32m----> 4\u001b[1;33m \u001b[0mp\u001b[0m\u001b[1;33m[\u001b[0m\u001b[1;34m'Name'\u001b[0m\u001b[1;33m]\u001b[0m\u001b[1;33m.\u001b[0m\u001b[0mappend\u001b[0m\u001b[1;33m(\u001b[0m\u001b[1;33m[\u001b[0m\u001b[1;34m'Greg'\u001b[0m\u001b[1;33m]\u001b[0m\u001b[1;33m)\u001b[0m\u001b[1;33m\u001b[0m\u001b[0m\n\u001b[0m\u001b[0;32m      5\u001b[0m \u001b[0mp\u001b[0m\u001b[1;33m\u001b[0m\u001b[0m\n",
      "\u001b[1;32m~\\Anaconda2\\envs\\TensorFlow\\lib\\site-packages\\pandas\\core\\series.py\u001b[0m in \u001b[0;36mappend\u001b[1;34m(self, to_append, ignore_index, verify_integrity)\u001b[0m\n\u001b[0;32m   1551\u001b[0m             \u001b[0mto_concat\u001b[0m \u001b[1;33m=\u001b[0m \u001b[1;33m[\u001b[0m\u001b[0mself\u001b[0m\u001b[1;33m,\u001b[0m \u001b[0mto_append\u001b[0m\u001b[1;33m]\u001b[0m\u001b[1;33m\u001b[0m\u001b[0m\n\u001b[0;32m   1552\u001b[0m         return concat(to_concat, ignore_index=ignore_index,\n\u001b[1;32m-> 1553\u001b[1;33m                       verify_integrity=verify_integrity)\n\u001b[0m\u001b[0;32m   1554\u001b[0m \u001b[1;33m\u001b[0m\u001b[0m\n\u001b[0;32m   1555\u001b[0m     \u001b[1;32mdef\u001b[0m \u001b[0m_binop\u001b[0m\u001b[1;33m(\u001b[0m\u001b[0mself\u001b[0m\u001b[1;33m,\u001b[0m \u001b[0mother\u001b[0m\u001b[1;33m,\u001b[0m \u001b[0mfunc\u001b[0m\u001b[1;33m,\u001b[0m \u001b[0mlevel\u001b[0m\u001b[1;33m=\u001b[0m\u001b[1;32mNone\u001b[0m\u001b[1;33m,\u001b[0m \u001b[0mfill_value\u001b[0m\u001b[1;33m=\u001b[0m\u001b[1;32mNone\u001b[0m\u001b[1;33m)\u001b[0m\u001b[1;33m:\u001b[0m\u001b[1;33m\u001b[0m\u001b[0m\n",
      "\u001b[1;32m~\\Anaconda2\\envs\\TensorFlow\\lib\\site-packages\\pandas\\core\\reshape\\concat.py\u001b[0m in \u001b[0;36mconcat\u001b[1;34m(objs, axis, join, join_axes, ignore_index, keys, levels, names, verify_integrity, copy)\u001b[0m\n\u001b[0;32m    204\u001b[0m                        \u001b[0mkeys\u001b[0m\u001b[1;33m=\u001b[0m\u001b[0mkeys\u001b[0m\u001b[1;33m,\u001b[0m \u001b[0mlevels\u001b[0m\u001b[1;33m=\u001b[0m\u001b[0mlevels\u001b[0m\u001b[1;33m,\u001b[0m \u001b[0mnames\u001b[0m\u001b[1;33m=\u001b[0m\u001b[0mnames\u001b[0m\u001b[1;33m,\u001b[0m\u001b[1;33m\u001b[0m\u001b[0m\n\u001b[0;32m    205\u001b[0m                        \u001b[0mverify_integrity\u001b[0m\u001b[1;33m=\u001b[0m\u001b[0mverify_integrity\u001b[0m\u001b[1;33m,\u001b[0m\u001b[1;33m\u001b[0m\u001b[0m\n\u001b[1;32m--> 206\u001b[1;33m                        copy=copy)\n\u001b[0m\u001b[0;32m    207\u001b[0m     \u001b[1;32mreturn\u001b[0m \u001b[0mop\u001b[0m\u001b[1;33m.\u001b[0m\u001b[0mget_result\u001b[0m\u001b[1;33m(\u001b[0m\u001b[1;33m)\u001b[0m\u001b[1;33m\u001b[0m\u001b[0m\n\u001b[0;32m    208\u001b[0m \u001b[1;33m\u001b[0m\u001b[0m\n",
      "\u001b[1;32m~\\Anaconda2\\envs\\TensorFlow\\lib\\site-packages\\pandas\\core\\reshape\\concat.py\u001b[0m in \u001b[0;36m__init__\u001b[1;34m(self, objs, axis, join, join_axes, keys, levels, names, ignore_index, verify_integrity, copy)\u001b[0m\n\u001b[0;32m    261\u001b[0m         \u001b[1;32mfor\u001b[0m \u001b[0mobj\u001b[0m \u001b[1;32min\u001b[0m \u001b[0mobjs\u001b[0m\u001b[1;33m:\u001b[0m\u001b[1;33m\u001b[0m\u001b[0m\n\u001b[0;32m    262\u001b[0m             \u001b[1;32mif\u001b[0m \u001b[1;32mnot\u001b[0m \u001b[0misinstance\u001b[0m\u001b[1;33m(\u001b[0m\u001b[0mobj\u001b[0m\u001b[1;33m,\u001b[0m \u001b[0mNDFrame\u001b[0m\u001b[1;33m)\u001b[0m\u001b[1;33m:\u001b[0m\u001b[1;33m\u001b[0m\u001b[0m\n\u001b[1;32m--> 263\u001b[1;33m                 \u001b[1;32mraise\u001b[0m \u001b[0mTypeError\u001b[0m\u001b[1;33m(\u001b[0m\u001b[1;34m\"cannot concatenate a non-NDFrame object\"\u001b[0m\u001b[1;33m)\u001b[0m\u001b[1;33m\u001b[0m\u001b[0m\n\u001b[0m\u001b[0;32m    264\u001b[0m \u001b[1;33m\u001b[0m\u001b[0m\n\u001b[0;32m    265\u001b[0m             \u001b[1;31m# consolidate\u001b[0m\u001b[1;33m\u001b[0m\u001b[1;33m\u001b[0m\u001b[0m\n",
      "\u001b[1;31mTypeError\u001b[0m: cannot concatenate a non-NDFrame object"
     ]
    }
   ],
   "source": [
    "import pandas as pd\n",
    "p = pd.DataFrame()\n",
    "p['Name'] = []\n",
    "p['Name'].append()\n",
    "p"
   ]
  }
 ],
 "metadata": {
  "kernelspec": {
   "display_name": "Sloth",
   "language": "python",
   "name": "sloth"
  },
  "language_info": {
   "codemirror_mode": {
    "name": "ipython",
    "version": 3
   },
   "file_extension": ".py",
   "mimetype": "text/x-python",
   "name": "python",
   "nbconvert_exporter": "python",
   "pygments_lexer": "ipython3",
   "version": "3.5.3"
  }
 },
 "nbformat": 4,
 "nbformat_minor": 2
}
